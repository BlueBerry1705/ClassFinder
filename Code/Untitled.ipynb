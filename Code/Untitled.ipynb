{
 "cells": [
  {
   "cell_type": "code",
   "execution_count": 2,
   "id": "f3f0c354",
   "metadata": {},
   "outputs": [
    {
     "name": "stdout",
     "output_type": "stream",
     "text": [
      "Distancias medidas: [48, 0, 52]\n",
      "Distancias medidas: [55, 15, 52]\n",
      "Distancias medidas: [55, 15, 55]\n",
      "Distancias medidas: [55, 15, 48]\n",
      "Distancias medidas: [55, 15, 53]\n",
      "Distancias medidas: [55, 15, 53]\n",
      "Detención del programa\n"
     ]
    }
   ],
   "source": [
    "import serial\n",
    "import time\n",
    "\n",
    "# Configurar el puerto serie\n",
    "ser = serial.Serial('/dev/ttyUSB0', 9600)  # Ajusta el nombre del puerto serie según corresponda\n",
    "ser.flushInput()\n",
    "\n",
    "try:\n",
    "    while True:\n",
    "        # Leer datos del puerto serie\n",
    "        data = ser.readline().decode().rstrip()\n",
    "        if data:\n",
    "            # Separar los datos en una lista\n",
    "            distances = data.split(' ')\n",
    "            # Convertir los datos a números enteros\n",
    "            distances = [int(distance) for distance in distances]\n",
    "            # Imprimir las distancias medidas\n",
    "            print(\"Distancias medidas:\", distances)\n",
    "        \n",
    "        time.sleep(1)  # Esperar un segundo antes de la próxima lectura\n",
    "\n",
    "except KeyboardInterrupt:\n",
    "    print(\"Detención del programa\")\n",
    "    ser.close()  # Cerrar el puerto serie al finalizar el programa\n"
   ]
  },
  {
   "cell_type": "code",
   "execution_count": 3,
   "id": "8389d302",
   "metadata": {},
   "outputs": [
    {
     "name": "stdout",
     "output_type": "stream",
     "text": [
      "True\n"
     ]
    }
   ],
   "source": [
    "import time\n",
    "def FindClass(message):\n",
    "    clase = message[-2:]\n",
    "    try:\n",
    "        numero = int(clase)\n",
    "        \n",
    "        if numero == 3:\n",
    "            time.sleep(12)\n",
    "            return True\n",
    "        \n",
    "        if numero > 3 and (numero % 2) != 0:\n",
    "            resultado = ((numero - 3) // 2) + 1\n",
    "            time.sleep(1 * resultado)\n",
    "            return True\n",
    "        else:\n",
    "            print(\"No mapeado\")\n",
    "         \n",
    "    except ValueError:\n",
    "        print(\"Los dos últimos carácteres no son un número\")\n",
    "    \n",
    "    return False\n",
    "\n",
    "message = 'Q10005'\n",
    "print(FindClass(message))"
   ]
  },
  {
   "cell_type": "code",
   "execution_count": null,
   "id": "e8f09399",
   "metadata": {},
   "outputs": [],
   "source": []
  },
  {
   "cell_type": "code",
   "execution_count": null,
   "id": "aa98caa7",
   "metadata": {},
   "outputs": [],
   "source": [
    "import cv2\n",
    "\n",
    "cap = cv2.VideoCapture(0)\n",
    "\n",
    "width = 640\n",
    "height = 480\n",
    "\n",
    "cap.set(cv2.CAP_PROP_FRAME_WIDTH, width)\n",
    "cap.set(cv2.CAP_PROP_FRAME_HEIGHT, height)\n",
    "\n",
    "while True:\n",
    "    ret, frame = cap.read()\n",
    "    if not ret:\n",
    "        break\n",
    "    cv2.imshow('frame',frame)\n",
    "    \n",
    "    if cv2.waitkey(1) & 0xFF == ord('q'):\n",
    "        brak;\n",
    "cap.release()\n",
    "cv2.destroyAllWindows()"
   ]
  },
  {
   "cell_type": "markdown",
   "id": "26646f44",
   "metadata": {},
   "source": []
  },
  {
   "cell_type": "code",
   "execution_count": null,
   "id": "49886fda",
   "metadata": {},
   "outputs": [],
   "source": []
  },
  {
   "cell_type": "code",
   "execution_count": null,
   "id": "5023906b",
   "metadata": {},
   "outputs": [],
   "source": [
    "from motor_controler import MotorController\n",
    "\n",
    "motor = MotorController()\n",
    "\n"
   ]
  },
  {
   "cell_type": "code",
   "execution_count": 3,
   "id": "e28e4ea1",
   "metadata": {},
   "outputs": [
    {
     "ename": "RuntimeError",
     "evalue": "Please set pin numbering mode using GPIO.setmode(GPIO.BOARD) or GPIO.setmode(GPIO.BCM)",
     "output_type": "error",
     "traceback": [
      "\u001b[0;31m---------------------------------------------------------------------------\u001b[0m",
      "\u001b[0;31mRuntimeError\u001b[0m                              Traceback (most recent call last)",
      "Cell \u001b[0;32mIn [3], line 3\u001b[0m\n\u001b[1;32m      1\u001b[0m \u001b[38;5;28;01mimport\u001b[39;00m \u001b[38;5;21;01mtime\u001b[39;00m\n\u001b[0;32m----> 3\u001b[0m \u001b[43mmotor\u001b[49m\u001b[38;5;241;43m.\u001b[39;49m\u001b[43mforward\u001b[49m\u001b[43m(\u001b[49m\u001b[38;5;124;43m'\u001b[39;49m\u001b[38;5;124;43mALL\u001b[39;49m\u001b[38;5;124;43m'\u001b[39;49m\u001b[43m,\u001b[49m\u001b[43m \u001b[49m\u001b[38;5;241;43m50\u001b[39;49m\u001b[43m)\u001b[49m\n\u001b[1;32m      4\u001b[0m time\u001b[38;5;241m.\u001b[39msleep(\u001b[38;5;241m1\u001b[39m)\n\u001b[1;32m      5\u001b[0m motor\u001b[38;5;241m.\u001b[39mstop(\u001b[38;5;124m'\u001b[39m\u001b[38;5;124mALL\u001b[39m\u001b[38;5;124m'\u001b[39m)\n",
      "File \u001b[0;32m/home/pi/Documents/Robotito/motor_controler.py:45\u001b[0m, in \u001b[0;36mMotorController.forward\u001b[0;34m(self, motor, speed)\u001b[0m\n\u001b[1;32m     43\u001b[0m \u001b[38;5;28;01mdef\u001b[39;00m \u001b[38;5;21mforward\u001b[39m(\u001b[38;5;28mself\u001b[39m, motor, speed):\n\u001b[1;32m     44\u001b[0m     \u001b[38;5;28;01mif\u001b[39;00m motor \u001b[38;5;241m==\u001b[39m \u001b[38;5;124m'\u001b[39m\u001b[38;5;124mA\u001b[39m\u001b[38;5;124m'\u001b[39m \u001b[38;5;129;01mor\u001b[39;00m motor \u001b[38;5;241m==\u001b[39m \u001b[38;5;124m'\u001b[39m\u001b[38;5;124mALL\u001b[39m\u001b[38;5;124m'\u001b[39m:\n\u001b[0;32m---> 45\u001b[0m         \u001b[43mGPIO\u001b[49m\u001b[38;5;241;43m.\u001b[39;49m\u001b[43moutput\u001b[49m\u001b[43m(\u001b[49m\u001b[38;5;28;43mself\u001b[39;49m\u001b[38;5;241;43m.\u001b[39;49m\u001b[43min1\u001b[49m\u001b[43m,\u001b[49m\u001b[43m \u001b[49m\u001b[43mGPIO\u001b[49m\u001b[38;5;241;43m.\u001b[39;49m\u001b[43mLOW\u001b[49m\u001b[43m)\u001b[49m\n\u001b[1;32m     46\u001b[0m         GPIO\u001b[38;5;241m.\u001b[39moutput(\u001b[38;5;28mself\u001b[39m\u001b[38;5;241m.\u001b[39min2, GPIO\u001b[38;5;241m.\u001b[39mHIGH)\n\u001b[1;32m     47\u001b[0m         GPIO\u001b[38;5;241m.\u001b[39moutput(\u001b[38;5;28mself\u001b[39m\u001b[38;5;241m.\u001b[39mena, GPIO\u001b[38;5;241m.\u001b[39mHIGH)\n",
      "\u001b[0;31mRuntimeError\u001b[0m: Please set pin numbering mode using GPIO.setmode(GPIO.BOARD) or GPIO.setmode(GPIO.BCM)"
     ]
    }
   ],
   "source": [
    "import time\n",
    "\n",
    "motor.forward('ALL', 50)\n",
    "time.sleep(1)\n",
    "motor.stop('ALL')"
   ]
  },
  {
   "cell_type": "code",
   "execution_count": null,
   "id": "056fa076",
   "metadata": {},
   "outputs": [],
   "source": []
  },
  {
   "cell_type": "code",
   "execution_count": null,
   "id": "f271d28b",
   "metadata": {},
   "outputs": [],
   "source": [
    "motor.cleanup()"
   ]
  },
  {
   "cell_type": "code",
   "execution_count": null,
   "id": "79fa3f53",
   "metadata": {},
   "outputs": [],
   "source": []
  },
  {
   "cell_type": "code",
   "execution_count": null,
   "id": "748f83b6",
   "metadata": {},
   "outputs": [],
   "source": []
  },
  {
   "cell_type": "code",
   "execution_count": 4,
   "id": "79ee06f5",
   "metadata": {},
   "outputs": [],
   "source": [
    "def BluetoothCommand(message, motor):\n",
    "    def forward(motor):\n",
    "        print(\"forward\")\n",
    "        motor.forward('ALL', 10)\n",
    "    \n",
    "    def backward(motor):\n",
    "        print(\"backward\")\n",
    "        motor.backward('ALL', 10)\n",
    "    \n",
    "    def stop(motor):\n",
    "        print(\"stop\")\n",
    "        motor.stop('ALL')\n",
    "    \n",
    "    def turn(motor):\n",
    "        print(\"turn\")\n",
    "        motor.left()\n",
    "        \n",
    "    \n",
    "    switch = {\n",
    "        \"f\": forward,\n",
    "        \"b\": backward,\n",
    "        \"s\": stop,\n",
    "        \"t\": turn\n",
    "    }\n",
    "    \n",
    "    switch.get(message, stop)(motor)\n",
    "    "
   ]
  },
  {
   "cell_type": "code",
   "execution_count": 1,
   "id": "0287e337",
   "metadata": {},
   "outputs": [
    {
     "name": "stdout",
     "output_type": "stream",
     "text": [
      "12 17 27 13 22 23\n"
     ]
    },
    {
     "name": "stderr",
     "output_type": "stream",
     "text": [
      "/home/pi/Documents/Robotito/motor_controler.py:18: RuntimeWarning: This channel is already in use, continuing anyway.  Use GPIO.setwarnings(False) to disable warnings.\n",
      "  GPIO.setup(self.ena, GPIO.OUT)\n",
      "/home/pi/Documents/Robotito/motor_controler.py:19: RuntimeWarning: This channel is already in use, continuing anyway.  Use GPIO.setwarnings(False) to disable warnings.\n",
      "  GPIO.setup(self.in1, GPIO.OUT)\n",
      "/home/pi/Documents/Robotito/motor_controler.py:20: RuntimeWarning: This channel is already in use, continuing anyway.  Use GPIO.setwarnings(False) to disable warnings.\n",
      "  GPIO.setup(self.in2, GPIO.OUT)\n",
      "/home/pi/Documents/Robotito/motor_controler.py:21: RuntimeWarning: This channel is already in use, continuing anyway.  Use GPIO.setwarnings(False) to disable warnings.\n",
      "  GPIO.setup(self.enb, GPIO.OUT)\n",
      "/home/pi/Documents/Robotito/motor_controler.py:22: RuntimeWarning: This channel is already in use, continuing anyway.  Use GPIO.setwarnings(False) to disable warnings.\n",
      "  GPIO.setup(self.in3, GPIO.OUT)\n",
      "/home/pi/Documents/Robotito/motor_controler.py:23: RuntimeWarning: This channel is already in use, continuing anyway.  Use GPIO.setwarnings(False) to disable warnings.\n",
      "  GPIO.setup(self.in4, GPIO.OUT)\n"
     ]
    },
    {
     "ename": "SerialException",
     "evalue": "[Errno 2] could not open port /dev/rfcomm0: [Errno 2] No such file or directory: '/dev/rfcomm0'",
     "output_type": "error",
     "traceback": [
      "\u001b[0;31m---------------------------------------------------------------------------\u001b[0m",
      "\u001b[0;31mFileNotFoundError\u001b[0m                         Traceback (most recent call last)",
      "File \u001b[0;32m/usr/lib/python3/dist-packages/serial/serialposix.py:322\u001b[0m, in \u001b[0;36mSerial.open\u001b[0;34m(self)\u001b[0m\n\u001b[1;32m    321\u001b[0m \u001b[38;5;28;01mtry\u001b[39;00m:\n\u001b[0;32m--> 322\u001b[0m     \u001b[38;5;28mself\u001b[39m\u001b[38;5;241m.\u001b[39mfd \u001b[38;5;241m=\u001b[39m \u001b[43mos\u001b[49m\u001b[38;5;241;43m.\u001b[39;49m\u001b[43mopen\u001b[49m\u001b[43m(\u001b[49m\u001b[38;5;28;43mself\u001b[39;49m\u001b[38;5;241;43m.\u001b[39;49m\u001b[43mportstr\u001b[49m\u001b[43m,\u001b[49m\u001b[43m \u001b[49m\u001b[43mos\u001b[49m\u001b[38;5;241;43m.\u001b[39;49m\u001b[43mO_RDWR\u001b[49m\u001b[43m \u001b[49m\u001b[38;5;241;43m|\u001b[39;49m\u001b[43m \u001b[49m\u001b[43mos\u001b[49m\u001b[38;5;241;43m.\u001b[39;49m\u001b[43mO_NOCTTY\u001b[49m\u001b[43m \u001b[49m\u001b[38;5;241;43m|\u001b[39;49m\u001b[43m \u001b[49m\u001b[43mos\u001b[49m\u001b[38;5;241;43m.\u001b[39;49m\u001b[43mO_NONBLOCK\u001b[49m\u001b[43m)\u001b[49m\n\u001b[1;32m    323\u001b[0m \u001b[38;5;28;01mexcept\u001b[39;00m \u001b[38;5;167;01mOSError\u001b[39;00m \u001b[38;5;28;01mas\u001b[39;00m msg:\n",
      "\u001b[0;31mFileNotFoundError\u001b[0m: [Errno 2] No such file or directory: '/dev/rfcomm0'",
      "\nDuring handling of the above exception, another exception occurred:\n",
      "\u001b[0;31mSerialException\u001b[0m                           Traceback (most recent call last)",
      "Cell \u001b[0;32mIn [1], line 5\u001b[0m\n\u001b[1;32m      2\u001b[0m \u001b[38;5;28;01mfrom\u001b[39;00m \u001b[38;5;21;01mmotor_controler\u001b[39;00m \u001b[38;5;28;01mimport\u001b[39;00m MotorController\n\u001b[1;32m      4\u001b[0m motor \u001b[38;5;241m=\u001b[39m MotorController()\n\u001b[0;32m----> 5\u001b[0m ser \u001b[38;5;241m=\u001b[39m \u001b[43mserial\u001b[49m\u001b[38;5;241;43m.\u001b[39;49m\u001b[43mSerial\u001b[49m\u001b[43m(\u001b[49m\u001b[38;5;124;43m'\u001b[39;49m\u001b[38;5;124;43m/dev/rfcomm0\u001b[39;49m\u001b[38;5;124;43m'\u001b[39;49m\u001b[43m,\u001b[49m\u001b[43m \u001b[49m\u001b[38;5;241;43m9600\u001b[39;49m\u001b[43m)\u001b[49m\n\u001b[1;32m      7\u001b[0m \u001b[38;5;28;01mtry\u001b[39;00m:\n\u001b[1;32m      8\u001b[0m     \u001b[38;5;28;01mwhile\u001b[39;00m \u001b[38;5;28;01mTrue\u001b[39;00m:\n",
      "File \u001b[0;32m/usr/lib/python3/dist-packages/serial/serialutil.py:244\u001b[0m, in \u001b[0;36mSerialBase.__init__\u001b[0;34m(self, port, baudrate, bytesize, parity, stopbits, timeout, xonxoff, rtscts, write_timeout, dsrdtr, inter_byte_timeout, exclusive, **kwargs)\u001b[0m\n\u001b[1;32m    241\u001b[0m     \u001b[38;5;28;01mraise\u001b[39;00m \u001b[38;5;167;01mValueError\u001b[39;00m(\u001b[38;5;124m'\u001b[39m\u001b[38;5;124munexpected keyword arguments: \u001b[39m\u001b[38;5;132;01m{!r}\u001b[39;00m\u001b[38;5;124m'\u001b[39m\u001b[38;5;241m.\u001b[39mformat(kwargs))\n\u001b[1;32m    243\u001b[0m \u001b[38;5;28;01mif\u001b[39;00m port \u001b[38;5;129;01mis\u001b[39;00m \u001b[38;5;129;01mnot\u001b[39;00m \u001b[38;5;28;01mNone\u001b[39;00m:\n\u001b[0;32m--> 244\u001b[0m     \u001b[38;5;28;43mself\u001b[39;49m\u001b[38;5;241;43m.\u001b[39;49m\u001b[43mopen\u001b[49m\u001b[43m(\u001b[49m\u001b[43m)\u001b[49m\n",
      "File \u001b[0;32m/usr/lib/python3/dist-packages/serial/serialposix.py:325\u001b[0m, in \u001b[0;36mSerial.open\u001b[0;34m(self)\u001b[0m\n\u001b[1;32m    323\u001b[0m \u001b[38;5;28;01mexcept\u001b[39;00m \u001b[38;5;167;01mOSError\u001b[39;00m \u001b[38;5;28;01mas\u001b[39;00m msg:\n\u001b[1;32m    324\u001b[0m     \u001b[38;5;28mself\u001b[39m\u001b[38;5;241m.\u001b[39mfd \u001b[38;5;241m=\u001b[39m \u001b[38;5;28;01mNone\u001b[39;00m\n\u001b[0;32m--> 325\u001b[0m     \u001b[38;5;28;01mraise\u001b[39;00m SerialException(msg\u001b[38;5;241m.\u001b[39merrno, \u001b[38;5;124m\"\u001b[39m\u001b[38;5;124mcould not open port \u001b[39m\u001b[38;5;132;01m{}\u001b[39;00m\u001b[38;5;124m: \u001b[39m\u001b[38;5;132;01m{}\u001b[39;00m\u001b[38;5;124m\"\u001b[39m\u001b[38;5;241m.\u001b[39mformat(\u001b[38;5;28mself\u001b[39m\u001b[38;5;241m.\u001b[39m_port, msg))\n\u001b[1;32m    326\u001b[0m \u001b[38;5;66;03m#~ fcntl.fcntl(self.fd, fcntl.F_SETFL, 0)  # set blocking\u001b[39;00m\n\u001b[1;32m    328\u001b[0m \u001b[38;5;28mself\u001b[39m\u001b[38;5;241m.\u001b[39mpipe_abort_read_r, \u001b[38;5;28mself\u001b[39m\u001b[38;5;241m.\u001b[39mpipe_abort_read_w \u001b[38;5;241m=\u001b[39m \u001b[38;5;28;01mNone\u001b[39;00m, \u001b[38;5;28;01mNone\u001b[39;00m\n",
      "\u001b[0;31mSerialException\u001b[0m: [Errno 2] could not open port /dev/rfcomm0: [Errno 2] No such file or directory: '/dev/rfcomm0'"
     ]
    }
   ],
   "source": [
    "import serial\n",
    "from motor_controler import MotorController\n",
    "\n",
    "motor = MotorController()\n",
    "ser = serial.Serial('/dev/rfcomm0', 9600)\n",
    "\n",
    "try:\n",
    "    while True:\n",
    "        if ser.in_waiting > 0:\n",
    "            message = ser.readline().decode('utf-8').rstrip()\n",
    "            print(\"Mensaje recibido: \", message)\n",
    "            if message == \"k\":\n",
    "                break\n",
    "                \n",
    "            BluetoothCommand(message, motor)\n",
    "            \n",
    "except KeyboardInterrupt:\n",
    "    print(\"Programa finalizado\")\n",
    "\n",
    "ser.close()\n",
    "motor.cleanup()"
   ]
  },
  {
   "cell_type": "code",
   "execution_count": null,
   "id": "0a2252ed",
   "metadata": {},
   "outputs": [],
   "source": []
  }
 ],
 "metadata": {
  "kernelspec": {
   "display_name": "Python 3 (ipykernel)",
   "language": "python",
   "name": "python3"
  },
  "language_info": {
   "codemirror_mode": {
    "name": "ipython",
    "version": 3
   },
   "file_extension": ".py",
   "mimetype": "text/x-python",
   "name": "python",
   "nbconvert_exporter": "python",
   "pygments_lexer": "ipython3",
   "version": "3.11.2"
  }
 },
 "nbformat": 4,
 "nbformat_minor": 5
}
